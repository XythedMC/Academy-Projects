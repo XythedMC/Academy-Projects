{
 "cells": [
  {
   "cell_type": "markdown",
   "metadata": {},
   "source": [
    "### Practice 21/03/2025"
   ]
  },
  {
   "cell_type": "code",
   "execution_count": 22,
   "metadata": {},
   "outputs": [],
   "source": [
    "def coords():\n",
    "    x1, y1 = input(\"enter the first x and y coordinates: \")\n",
    "    x1, y1 = float(x1), float(y1)\n",
    "    x2, y2 = input(\"enter the second x and y coordinates: \")\n",
    "    x2, y2 = float(x2), float(y2)\n",
    "    \n",
    "    print(\"mid point is:\", (x1 + x2) / 2, (y1 + y2) / 2)\n",
    "    print(f\"y =\", (y2 - y1)/(x2 - x1), \"x + \", y1 - x1*(y2 - y1)/(x2 - x1))"
   ]
  },
  {
   "cell_type": "code",
   "execution_count": 19,
   "metadata": {},
   "outputs": [
    {
     "name": "stdout",
     "output_type": "stream",
     "text": [
      "0.5 0.5\n",
      "y = 1.0 x +  3.0\n"
     ]
    }
   ],
   "source": [
    "coords()"
   ]
  },
  {
   "cell_type": "code",
   "execution_count": 11,
   "metadata": {},
   "outputs": [],
   "source": [
    "def sum_of_digits():\n",
    "    num = int(input(\"Please enter a three digit number: \"))\n",
    "    sum = 0\n",
    "    sum += num % 10\n",
    "    num //= 10\n",
    "    sum += num % 10\n",
    "    num //= 10\n",
    "    sum += num % 10\n",
    "    print(sum)"
   ]
  },
  {
   "cell_type": "code",
   "execution_count": 13,
   "metadata": {},
   "outputs": [
    {
     "name": "stdout",
     "output_type": "stream",
     "text": [
      "15\n"
     ]
    }
   ],
   "source": [
    "sum_of_digits()"
   ]
  },
  {
   "cell_type": "code",
   "execution_count": 20,
   "metadata": {},
   "outputs": [],
   "source": [
    "def reverse_digits():\n",
    "    num = int(input(\"Please enter a three digit number: \"))\n",
    "    original_num = num\n",
    "    res = 0\n",
    "    res += (num % 10) * 100\n",
    "    print(res // 100 % 10)\n",
    "    num //= 10\n",
    "    res += (num % 10) * 10\n",
    "    print(res // 10 % 10)\n",
    "    num //= 10\n",
    "    res += (num % 10)\n",
    "    print(res % 10)\n",
    "    print(res)"
   ]
  },
  {
   "cell_type": "code",
   "execution_count": 21,
   "metadata": {},
   "outputs": [
    {
     "name": "stdout",
     "output_type": "stream",
     "text": [
      "3\n",
      "2\n",
      "1\n",
      "321\n"
     ]
    }
   ],
   "source": [
    "reverse_digits()"
   ]
  },
  {
   "cell_type": "code",
   "execution_count": 36,
   "metadata": {},
   "outputs": [],
   "source": [
    "def calc_travel_time():\n",
    "    SEC_IN_MIN = 60\n",
    "    MIN_IN_HOUR = 60\n",
    "    SEC_IN_HOUR = SEC_IN_MIN * MIN_IN_HOUR\n",
    "    dep_h, dep_m, dep_s = input(\"enter departure time (h:m:s): \").split(\":\")\n",
    "    dep_h, dep_m, dep_s = int(dep_h), int(dep_m), int(dep_s)\n",
    "    arrival_h, arrival_m, arrival_s = input(\"enter arrival time (h:m:s): \").split(\":\")\n",
    "    arrival_h, arrival_m, arrival_s = int(arrival_h), int(arrival_m), int(arrival_s)\n",
    "\n",
    "\n",
    "    arrival_total = arrival_h * SEC_IN_HOUR + arrival_m * MIN_IN_HOUR + arrival_s\n",
    "    dep_total = dep_h * SEC_IN_HOUR + dep_m * MIN_IN_HOUR + dep_s\n",
    "\n",
    "    travel_time = arrival_total - dep_total\n",
    "\n",
    "    travel_h = travel_time // SEC_IN_HOUR\n",
    "\n",
    "    travel_m = (travel_time % SEC_IN_HOUR) // MIN_IN_HOUR\n",
    "\n",
    "    travel_s = travel_time % SEC_IN_MIN\n",
    "\n",
    "    print(\"travel time: \",travel_h,\":\",travel_m,\":\",travel_s)\n",
    "    "
   ]
  },
  {
   "cell_type": "code",
   "execution_count": 35,
   "metadata": {},
   "outputs": [
    {
     "name": "stdout",
     "output_type": "stream",
     "text": [
      "travel time:  0 : 49 : 50\n"
     ]
    }
   ],
   "source": [
    "calc_travel_time()"
   ]
  },
  {
   "cell_type": "code",
   "execution_count": null,
   "metadata": {},
   "outputs": [],
   "source": [
    "def ABC():\n",
    "    print(\"letter in the abc:\", ord(\"z\") - ord(\"a\") + 1)\n",
    "\n",
    "def is_letter():\n",
    "    ch = input(\"enter a character: \")\n",
    "    res = ('a' <= ch <= 'z') or ('A' <= ch <= 'Z')\n",
    "    print(res)"
   ]
  },
  {
   "cell_type": "code",
   "execution_count": null,
   "metadata": {},
   "outputs": [],
   "source": [
    "ABC()\n",
    "is_letter()"
   ]
  },
  {
   "cell_type": "markdown",
   "metadata": {},
   "source": [
    "### Practice 28/03/2025"
   ]
  },
  {
   "cell_type": "code",
   "execution_count": null,
   "metadata": {},
   "outputs": [],
   "source": [
    "def properties():\n",
    "    arr = []\n",
    "    num = 0\n",
    "    while num != -1:\n",
    "        num = int(input(\"enter a number: \"))\n",
    "        if num < 0 and num != -1:\n",
    "            print(\"number needs to be positive\")\n",
    "            return\n",
    "            \n",
    "        if num == -1:\n",
    "            break\n",
    "        arr.append(num)\n",
    "    \n",
    "    if len(arr) == 0:\n",
    "        print(\"no numbers were entered\")\n",
    "        return\n",
    "    \n",
    "    print(\"max:\", max(arr))\n",
    "    print(\"min:\", min(arr))\n",
    "\n",
    "    sum = 0\n",
    "    even = 0\n",
    "    odd = 0\n",
    "\n",
    "    for i in arr:\n",
    "        sum += i\n",
    "        if i % 2 == 0:\n",
    "            even += 1\n",
    "        else:\n",
    "            odd += 1\n",
    "\n",
    "    print(\"average:\", sum / len(arr))\n",
    "    print(\"amount of numbers:\", len(arr))\n",
    "    print(\"amount of even numbers:\", even)\n",
    "    print(\"amount of odd numbers:\", odd)\n",
    "\n",
    "def properties_no_arr():\n",
    "    num = 0\n",
    "    count = 0\n",
    "    sum = 0\n",
    "    even = 0\n",
    "    odd = 0\n",
    "    max_num = 0\n",
    "    min_num = 0\n",
    "    while num != -1:\n",
    "        num = int(input(\"enter a number: \"))\n",
    "        if num < 0 and num != -1:\n",
    "            print(\"Error: negative number\")\n",
    "            return\n",
    "            \n",
    "        if num != -1:\n",
    "            count += 1\n",
    "\n",
    "            if num >= max_num:\n",
    "                max_num = num\n",
    "            if count == 1 or num <= min_num:\n",
    "                min_num = num\n",
    "            \n",
    "            sum += num\n",
    "            if num % 2 == 0:\n",
    "                even += 1\n",
    "            else:\n",
    "                odd += 1\n",
    "            \n",
    "            avg = sum / count\n",
    "        \n",
    "    if count == 0:\n",
    "        print(\"Error: no numbers were entered\")\n",
    "        return\n",
    "\n",
    "    print(\"max:\", max_num)\n",
    "    print(\"min:\", min_num)\n",
    "    print(\"average:\", avg)\n",
    "    print(\"amount of numbers:\", count)\n",
    "    print(\"amount of even numbers:\", even)\n",
    "    print(\"amount of odd numbers:\", odd)\n",
    "\n",
    "    "
   ]
  },
  {
   "cell_type": "code",
   "execution_count": 22,
   "metadata": {},
   "outputs": [
    {
     "name": "stdout",
     "output_type": "stream",
     "text": [
      "number needs to be positive\n"
     ]
    }
   ],
   "source": [
    "properties_no_arr()"
   ]
  },
  {
   "cell_type": "code",
   "execution_count": 77,
   "metadata": {},
   "outputs": [],
   "source": [
    "def is_sublist():\n",
    "    lst1 = input(\"enter the first list: \").split()\n",
    "    lst2 = input(\"enter the second list: \").split()\n",
    "\n",
    "    biggest_idx = 0\n",
    "    for i in range(len(lst2)):\n",
    "        if lst2[i] not in lst1:\n",
    "            print(\"not sublist\")\n",
    "            return\n",
    "        else:\n",
    "            if lst1.index(lst2[i]) > biggest_idx:\n",
    "                biggest_idx = lst1.index(lst2[i])\n",
    "            else:\n",
    "                print(\"not sublist\")\n",
    "                return\n",
    "    print(lst1)\n",
    "    print(lst2)\n",
    "    print(lst1.index(lst2[0]))\n",
    "        "
   ]
  },
  {
   "cell_type": "code",
   "execution_count": 78,
   "metadata": {},
   "outputs": [
    {
     "name": "stdout",
     "output_type": "stream",
     "text": [
      "['1', '2', '3', '4', '5', '6', '7', '8', '7', '10']\n",
      "['4', '5', '7']\n",
      "3\n"
     ]
    }
   ],
   "source": [
    "is_sublist()"
   ]
  },
  {
   "cell_type": "code",
   "execution_count": 67,
   "metadata": {},
   "outputs": [],
   "source": [
    "def letter_triangle():\n",
    "    n = int(input(\"enter a number: \"))\n",
    "    current_char = \"a\"\n",
    "    for i in range(n, 0, -1):\n",
    "        for j in range(i):\n",
    "            print(current_char, end=\"\")\n",
    "        if current_char == \"z\":\n",
    "            current_char = \"a\"\n",
    "        else:\n",
    "            current_char = chr(ord(current_char) + 1)\n",
    "        print()"
   ]
  },
  {
   "cell_type": "code",
   "execution_count": 69,
   "metadata": {},
   "outputs": [
    {
     "name": "stdout",
     "output_type": "stream",
     "text": [
      "aaaaaaaaaaaaaaaaaaaaaaaaaaaa\n",
      "bbbbbbbbbbbbbbbbbbbbbbbbbbb\n",
      "cccccccccccccccccccccccccc\n",
      "ddddddddddddddddddddddddd\n",
      "eeeeeeeeeeeeeeeeeeeeeeee\n",
      "fffffffffffffffffffffff\n",
      "gggggggggggggggggggggg\n",
      "hhhhhhhhhhhhhhhhhhhhh\n",
      "iiiiiiiiiiiiiiiiiiii\n",
      "jjjjjjjjjjjjjjjjjjj\n",
      "kkkkkkkkkkkkkkkkkk\n",
      "lllllllllllllllll\n",
      "mmmmmmmmmmmmmmmm\n",
      "nnnnnnnnnnnnnnn\n",
      "oooooooooooooo\n",
      "ppppppppppppp\n",
      "qqqqqqqqqqqq\n",
      "rrrrrrrrrrr\n",
      "ssssssssss\n",
      "ttttttttt\n",
      "uuuuuuuu\n",
      "vvvvvvv\n",
      "wwwwww\n",
      "xxxxx\n",
      "yyyy\n",
      "zzz\n",
      "aa\n",
      "b\n"
     ]
    }
   ],
   "source": [
    "letter_triangle()"
   ]
  },
  {
   "cell_type": "code",
   "execution_count": null,
   "metadata": {},
   "outputs": [],
   "source": [
    "def space_triangle():\n",
    "    n = int(input(\"enter a number: \"))\n",
    "    ch = \"*\"\n",
    "    space_amount = (n - 1) * 2\n",
    "    while space_amount >= 0:\n",
    "        print(ch, end = \"\")\n",
    "        print(\" \" * space_amount, end=\"\")\n",
    "        print(ch)\n",
    "        ch += \"*\"\n",
    "        space_amount -= 2\n",
    "\n",
    "def space_triangle_alternating():\n",
    "    n = int(input(\"enter a number: \"))\n",
    "    ch_odd = input(\"enter an odd character: \")\n",
    "    ch_even = input(\"enter an even character: \")\n",
    "    line = 1\n",
    "    space_amount = (n - 1) * 2\n",
    "    while space_amount >= 0:\n",
    "        if line % 2 == 0:\n",
    "            ch = ch_even * line\n",
    "        else:\n",
    "            ch = ch_odd * line\n",
    "            \n",
    "        print(ch, end = \"\")\n",
    "        print(\" \" * space_amount, end=\"\")\n",
    "        print(ch)\n",
    "        ch *= line\n",
    "        space_amount -= 2\n",
    "        line += 1\n",
    "\n",
    "space_triangle()\n",
    "space_triangle_alternating()"
   ]
  },
  {
   "cell_type": "code",
   "execution_count": null,
   "metadata": {},
   "outputs": [],
   "source": [
    "def remove_words_with_broken_letters():\n",
    "    text = input(\"enter a text: \")\n",
    "    broken_letters = input(\"enter broken letters: \")\n",
    "    new_text = text\n",
    "    res = \"\"\n",
    "    words = []\n",
    "    while new_text != \"\":\n",
    "        if \" \" in new_text:\n",
    "            words.append(new_text[:new_text.index(\" \")])\n",
    "            new_text = new_text[new_text.index(\" \") + 1:]\n",
    "        else:\n",
    "            words.append(new_text)\n",
    "            new_text = \"\"\n",
    "    \n",
    "    valid = False\n",
    "    for word in words:\n",
    "        for letter in broken_letters:\n",
    "            if letter not in word:\n",
    "                valid = True\n",
    "            else:\n",
    "                valid = False\n",
    "                break\n",
    "        if valid == True:\n",
    "            res += word + \" \"\n",
    "            \n",
    "    print(res)\n",
    "        \n",
    "\n",
    "remove_words_with_broken_letters()\n"
   ]
  },
  {
   "cell_type": "markdown",
   "metadata": {},
   "source": [
    "### Class 01/04/2025"
   ]
  },
  {
   "cell_type": "code",
   "execution_count": 12,
   "metadata": {},
   "outputs": [
    {
     "name": "stdout",
     "output_type": "stream",
     "text": [
      "yza\n"
     ]
    }
   ],
   "source": [
    "def encrypt():\n",
    "    text = input(\"enter the text: \")\n",
    "    shift = int(input(\"enter the jump between each letter(const): \"))\n",
    "    res = \"\"\n",
    "    for char in text:\n",
    "        if char.isalpha():\n",
    "            if char.islower():\n",
    "                start = ord('a')\n",
    "            else:\n",
    "                start = ord('A')\n",
    "            shifted_char = chr((ord(char) - start + shift) % 26 + start)\n",
    "        else:\n",
    "            shifted_char = char\n",
    "        res += shifted_char\n",
    "    print(res)\n",
    "\n",
    "def decrypt():\n",
    "    text = input(\"enter the text: \")\n",
    "    shift = int(input(\"enter the jump between each letter(const): \"))\n",
    "    res = \"\"\n",
    "    for char in text:\n",
    "        if char.isalpha():\n",
    "            if char.islower():\n",
    "                start = ord('a')\n",
    "            else:\n",
    "                start = ord('A')\n",
    "            shifted_char = chr((ord(char) - start - shift) % 26 + start)\n",
    "        else:\n",
    "            shifted_char = char\n",
    "        res += shifted_char\n",
    "    print(res)\n",
    "\n",
    "decrypt()"
   ]
  },
  {
   "cell_type": "code",
   "execution_count": 3,
   "metadata": {},
   "outputs": [
    {
     "name": "stdout",
     "output_type": "stream",
     "text": [
      "apple Avocado\n"
     ]
    }
   ],
   "source": [
    "def starting_with():\n",
    "    lst = []\n",
    "    text = input(\"enter the text: \")\n",
    "    while text != \"-1\":\n",
    "        if text.startswith(\"a\") or text.startswith(\"A\"):\n",
    "            lst.append(text)\n",
    "        text = input(\"enter the text: \")\n",
    "    \n",
    "    print(\" \".join(lst))\n",
    "\n",
    "\n",
    "starting_with()"
   ]
  },
  {
   "cell_type": "code",
   "execution_count": 12,
   "metadata": {},
   "outputs": [
    {
     "name": "stdout",
     "output_type": "stream",
     "text": [
      "[[1], [1, 2], [1, 2, 3], [1, 2, 3, 4], [1, 2, 3, 4, 5]]\n"
     ]
    }
   ],
   "source": [
    "def nums_until():\n",
    "    num = int(input(\"enter a number\"))\n",
    "    until = [1]\n",
    "    res = []\n",
    "    for i in range(2, num + 1, 1):\n",
    "        res.append(until.copy())\n",
    "        until.append(i)\n",
    "    print(res)\n",
    "\n",
    "def nums_until_1():\n",
    "    num = int(input(\"enter a number\"))\n",
    "    cur = 1\n",
    "    res = []\n",
    "    while cur <= num:\n",
    "        res.append(list(range(1, cur + 1)))\n",
    "        cur += 1\n",
    "\n",
    "    print(res)\n",
    "\n",
    "nums_until_1()"
   ]
  },
  {
   "cell_type": "code",
   "execution_count": null,
   "metadata": {},
   "outputs": [
    {
     "name": "stdout",
     "output_type": "stream",
     "text": [
      "14\n"
     ]
    }
   ],
   "source": [
    "def find_circ():\n",
    "    grid = [[0,1,0,0],[1,1,0,0],[0,1,0,0],[1,1,0,0]]\n",
    "    count = 0\n",
    "    for i in grid:\n",
    "        for j in i:\n",
    "            count += j\n",
    "    print(count)\n",
    "\n",
    "def find_circ_2():\n",
    "    grid = [[0,1,0,0],[1,1,0,0],[0,1,0,0],[1,1,0,0]]\n",
    "    count = 0\n",
    "    for i in range(len(grid)):\n",
    "        for j in range(len(grid)):\n",
    "            if grid[i][j] == 0:\n",
    "                continue\n",
    "            \n",
    "            # up\n",
    "            if i == 0:\n",
    "                count += 1\n",
    "            else:\n",
    "                if grid[i-1][j] == 0:\n",
    "                    count += 1\n",
    "            \n",
    "            # down\n",
    "            if i == len(grid) - 1:\n",
    "                count += 1\n",
    "            else:\n",
    "                if grid[i+1][j] == 0:\n",
    "                    count += 1\n",
    "\n",
    "            # left\n",
    "            if j == 0:\n",
    "                count += 1\n",
    "            else:\n",
    "                if grid[i][j-1] == 0:\n",
    "                    count += 1\n",
    "            \n",
    "            # right\n",
    "            if j == len(grid) - 1:\n",
    "                count += 1\n",
    "            else:\n",
    "                if grid[i][j+1] == 0:\n",
    "                    count += 1\n",
    "                    \n",
    "    print(count)\n",
    "\n",
    "find_circ_2()"
   ]
  },
  {
   "cell_type": "markdown",
   "metadata": {},
   "source": [
    "### Practice 04/04/2025"
   ]
  },
  {
   "cell_type": "code",
   "execution_count": null,
   "metadata": {},
   "outputs": [
    {
     "name": "stdout",
     "output_type": "stream",
     "text": [
      "first occurence of 'ab' is at index 5\n",
      "ab repeats 3 times in a row in 'ababcabababfg'\n"
     ]
    }
   ],
   "source": [
    "def k_repeating():\n",
    "    text = input(\"enter a text: \")\n",
    "    word = input(\"enter a word: \")\n",
    "    non_word = text.split(word)\n",
    "    k = 0\n",
    "    max = 0\n",
    "    for i in range(len(non_word) - 1):\n",
    "        if non_word[i] == '':\n",
    "            k += 1\n",
    "        else:\n",
    "            if k > max:\n",
    "                max = k\n",
    "                k = 0\n",
    "            else:\n",
    "                k = 0\n",
    "    if non_word[-1] == '':\n",
    "        k += 1\n",
    "        if k > max_k:\n",
    "            max_k = k\n",
    "    if max == 0:\n",
    "        print(\"not repeating\")\n",
    "    else:\n",
    "        print(f\"{max + 1}-repeating\")\n",
    "\n",
    "def k_repeating_2():\n",
    "    text = input(\"enter a text: \")\n",
    "    word = input(\"enter a word: \")\n",
    "    word_copy = word\n",
    "    k = 0\n",
    "    idx = 0\n",
    "    finish = False\n",
    "    while not finish:\n",
    "        try:\n",
    "            idx = text.index(word_copy) \n",
    "            word_copy += word\n",
    "            k += 1\n",
    "        except:\n",
    "            finish = True\n",
    "    if k > 0:\n",
    "        print(f\"first occurence of '{word}' is at index {idx}\")\n",
    "        print(f\"'{word}' repeats {k} times in a row in '{text}'\")\n",
    "    else:\n",
    "        print(f\"'{word}' is not in '{text}'\")\n",
    "    \n",
    "k_repeating_2()"
   ]
  },
  {
   "cell_type": "code",
   "execution_count": null,
   "metadata": {},
   "outputs": [
    {
     "name": "stdout",
     "output_type": "stream",
     "text": [
      "[1, 2, 1, 2, 1, 2, 1, 2, 1, 1, 1, 1, 1, 1, 1, 1]\n"
     ]
    }
   ],
   "source": [
    "def combine():\n",
    "    lst1, lst2 = [], []\n",
    "    num = 0\n",
    "    while num != -1:\n",
    "        num = int(input(\"enter a number for the first list: \"))\n",
    "        if num == -1:\n",
    "            break\n",
    "        lst1.append(num)\n",
    "    num = 0\n",
    "    while num != -1:\n",
    "        num = int(input(\"enter a number for the second list: \"))\n",
    "        if num == -1:\n",
    "            break\n",
    "        lst2.append(num)\n",
    "    \n",
    "    lst3 = []\n",
    "\n",
    "    max = lst1 if len(lst1) > len(lst2) else lst2\n",
    "    min = lst1 if len(lst1) < len(lst2) else lst2\n",
    "    for i in range(len(max)):\n",
    "        lst3.append(max[i])\n",
    "        lst3.append(min[i])\n",
    "    lst3 += max[i:]\n",
    "    lst3 += min[i:]\n",
    "    print(lst3)\n",
    "\n",
    "combine()                "
   ]
  },
  {
   "cell_type": "code",
   "execution_count": null,
   "metadata": {},
   "outputs": [
    {
     "name": "stdout",
     "output_type": "stream",
     "text": [
      "goofy is this hello world\n",
      "goofy is this hello world\n"
     ]
    }
   ],
   "source": [
    "def reverse():\n",
    "    text = input(\"enter a text: \")\n",
    "    words = text.split()\n",
    "    res = \"\"\n",
    "    for i in range(len(words) - 1, 0, -1):\n",
    "        res += words[i] + \" \"\n",
    "    print(res + words[0])\n",
    "\n",
    "def reverse_slicing():\n",
    "    text = input(\"enter a text: \")\n",
    "    words = text.split()\n",
    "    res = \" \".join(words[::-1])\n",
    "    print(res)\n",
    "\n",
    "reverse()"
   ]
  }
 ],
 "metadata": {
  "kernelspec": {
   "display_name": "Python 3",
   "language": "python",
   "name": "python3"
  },
  "language_info": {
   "codemirror_mode": {
    "name": "ipython",
    "version": 3
   },
   "file_extension": ".py",
   "mimetype": "text/x-python",
   "name": "python",
   "nbconvert_exporter": "python",
   "pygments_lexer": "ipython3",
   "version": "3.11.0"
  }
 },
 "nbformat": 4,
 "nbformat_minor": 2
}
